{
 "cells": [
  {
   "cell_type": "markdown",
   "metadata": {
    "id": "FbWoGOis4KoG"
   },
   "source": [
    "# L4: Tools for a Customer Outreach Campaign\n",
    "\n",
    "In this lesson, you will learn more about Tools. You'll focus on three key elements of Tools:\n",
    "- Versatility\n",
    "- Fault Tolerance\n",
    "- Caching"
   ]
  },
  {
   "cell_type": "markdown",
   "metadata": {},
   "source": [
    "The libraries are already installed in the classroom. If you're running this notebook on your own machine, you can install the following:\n",
    "```Python\n",
    "!pip install crewai==0.28.8 crewai_tools==0.1.6 langchain_community==0.0.29\n",
    "```"
   ]
  },
  {
   "cell_type": "code",
   "execution_count": 39,
   "metadata": {
    "height": 64,
    "id": "_LQ5_lop4KJq"
   },
   "outputs": [],
   "source": [
    "import os\n",
    "import requests\n",
    "from pydantic import BaseModel, EmailStr, ValidationError, Field\n",
    "from crewai_tools import tool\n",
    "\n",
    "contiguity_crewai_token = os.getenv(\"CONTIGUITY_CREWAI_TOKEN\")\n",
    "\n",
    "# Warning control\n",
    "import warnings\n",
    "warnings.filterwarnings('ignore')"
   ]
  },
  {
   "cell_type": "markdown",
   "metadata": {},
   "source": [
    "- Import libraries, APIs and LLM\n",
    "- [Serper](https://serper.dev)"
   ]
  },
  {
   "cell_type": "code",
   "execution_count": 40,
   "metadata": {
    "height": 30
   },
   "outputs": [],
   "source": [
    "from crewai import Agent, Task, Crew"
   ]
  },
  {
   "cell_type": "markdown",
   "metadata": {},
   "source": [
    "**Note**: \n",
    "- The video uses `gpt-4-turbo`, but due to certain constraints, and in order to offer this course for free to everyone, the code you'll run here will use `gpt-3.5-turbo`.\n",
    "- You can use `gpt-4-turbo` when you run the notebook _locally_ (using `gpt-4-turbo` will not work on the platform)\n",
    "- Thank you for your understanding!"
   ]
  },
  {
   "cell_type": "markdown",
   "metadata": {},
   "source": [
    "## Creating Agents"
   ]
  },
  {
   "cell_type": "code",
   "execution_count": 41,
   "metadata": {
    "height": 319
   },
   "outputs": [],
   "source": [
    "researcher_agent = Agent(\n",
    "    role=\"Health Tech Event Researcher\",\n",
    "    goal=\"Identify relevant Health Tech events within the next 6 months - Todays data is 23 May 2024\"\n",
    "    \t\"Gather detailed information about these events including dates, locations, themes, and key attendees.\"\n",
    "    \t\"Assess the potential benefits of AI MedReview exhibiting at these events.\",\n",
    "    backstory=(\n",
    "        \"The Health Tech Event Researcher, Alex Thompson, is a data-driven analyst with a background in health informatics. Alex has a keen eye for detail and a deep understanding of the health tech industry. Having previously worked in event management and market research, Alex brings valuable insights into identifying high-impact events. Alex’s passion for leveraging AI in healthcare drives their dedication to finding the best opportunities for AI MedReview to showcase its innovations.\"\n",
    "    ),\n",
    "    allow_delegation=True,\n",
    "    verbose=True\n",
    ")"
   ]
  },
  {
   "cell_type": "code",
   "execution_count": 42,
   "metadata": {
    "height": 302
   },
   "outputs": [],
   "source": [
    "event_planner_agent = Agent(\n",
    "    role=\"Event Planner\",\n",
    "    goal=\"Assess the cost of attending or exhibiting at each event.\"\n",
    "    \t\"Determine if the event is primarily oriented towards primary care.\"\n",
    "    \t\"Identify the presence of key stakeholders such as PCN Clinical Directors, Management Leads, and ICB representatives.\"\n",
    "    \t\"Collect logistical details including event address, contact information, and website.\",\n",
    "    backstory=(\n",
    "        \"Taylor Morgan, the Event Planner, is a meticulous organizer with extensive experience in event management and stakeholder engagement within the healthcare sector. Taylor has a background in healthcare administration and has previously coordinated several successful conferences and seminars. Known for their excellent networking skills and attention to detail, Taylor ensures that AI MedReview selects events that offer maximum strategic value and effective engagement with key stakeholders. Taylor’s comprehensive approach ensures that every logistical aspect is covered, allowing the team to focus on impactful participation.\"\n",
    "    ),\n",
    "    allow_delegation=True,\n",
    "    verbose=True\n",
    ")"
   ]
  },
  {
   "cell_type": "code",
   "execution_count": 43,
   "metadata": {},
   "outputs": [],
   "source": [
    "event_promoter_agent = Agent(\n",
    "    role=\"Event Promoter\",\n",
    "    goal=\"Craft compelling copy for event promotions.\"\n",
    "    \t\"Highlight AI MedReview’s unique offerings and benefits.\"\n",
    "    \t\"Ensure consistent messaging across various platforms (e.g., website, social media, newsletters).\",\n",
    "    backstory=(\n",
    "        \"Jamie Lee, the Event Promoter, is a seasoned marketing specialist with a flair for creative writing and a background in digital marketing. Jamie has worked with several startups in the health tech space, helping them build their brand presence and engage with their audience effectively. Jamie’s expertise lies in crafting narratives that resonate with both technical and non-technical audiences, making complex AI concepts accessible and exciting. Their mission is to amplify AI MedReview’s visibility and highlight its contributions to the healthcare industry.\"\n",
    "    ),\n",
    "    allow_delegation=True,\n",
    "    verbose=True\n",
    ")"
   ]
  },
  {
   "cell_type": "markdown",
   "metadata": {},
   "source": [
    "## Creating Tools\n",
    "\n",
    "### crewAI Tools"
   ]
  },
  {
   "cell_type": "code",
   "execution_count": 44,
   "metadata": {
    "height": 64
   },
   "outputs": [],
   "source": [
    "from crewai_tools import DirectoryReadTool, \\\n",
    "                         FileReadTool, \\\n",
    "                         SerperDevTool"
   ]
  },
  {
   "cell_type": "code",
   "execution_count": 45,
   "metadata": {
    "height": 64
   },
   "outputs": [],
   "source": [
    "directory_read_tool = DirectoryReadTool(directory='./instructions')\n",
    "file_read_tool = FileReadTool()\n",
    "search_tool = SerperDevTool()"
   ]
  },
  {
   "cell_type": "markdown",
   "metadata": {},
   "source": [
    "### Custom Tool\n",
    "- Create a custom tool using crewAi's [BaseTool](https://docs.crewai.com/core-concepts/Tools/#subclassing-basetool) class"
   ]
  },
  {
   "cell_type": "code",
   "execution_count": 46,
   "metadata": {
    "height": 30
   },
   "outputs": [],
   "source": [
    "from crewai_tools import BaseTool"
   ]
  },
  {
   "cell_type": "markdown",
   "metadata": {},
   "source": [
    "- Every Tool needs to have a `name` and a `description`.\n",
    "- For simplicity and classroom purposes, `SentimentAnalysisTool` will return `positive` for every text.\n",
    "- When running locally, you can customize the code with your logic in the `_run` function."
   ]
  },
  {
   "cell_type": "code",
   "execution_count": 47,
   "metadata": {
    "height": 149
   },
   "outputs": [],
   "source": [
    "class SentimentAnalysisTool(BaseTool):\n",
    "    name: str =\"Sentiment Analysis Tool\"\n",
    "    description: str = (\"Analyzes the sentiment of text \"\n",
    "         \"to ensure positive and engaging communication.\")\n",
    "    \n",
    "    def _run(self, text: str) -> str:\n",
    "        # Your custom code tool goes here\n",
    "        return \"positive\""
   ]
  },
  {
   "cell_type": "code",
   "execution_count": 48,
   "metadata": {},
   "outputs": [],
   "source": [
    "class SendEmailToolArgs(BaseModel):\n",
    "    email_address: EmailStr\n",
    "    email_subject: str\n",
    "    email_body: str\n",
    "    content_type: str = Field(default='text', description=\"The content type of the email, either 'text' or 'html'\")"
   ]
  },
  {
   "cell_type": "code",
   "execution_count": 53,
   "metadata": {},
   "outputs": [
    {
     "ename": "TypeError",
     "evalue": "tool() got an unexpected keyword argument 'args_schema'",
     "output_type": "error",
     "traceback": [
      "\u001b[0;31m---------------------------------------------------------------------------\u001b[0m",
      "\u001b[0;31mTypeError\u001b[0m                                 Traceback (most recent call last)",
      "Cell \u001b[0;32mIn[53], line 14\u001b[0m\n\u001b[1;32m     10\u001b[0m         d[\u001b[38;5;124m'\u001b[39m\u001b[38;5;124mfrom\u001b[39m\u001b[38;5;124m'\u001b[39m] \u001b[38;5;241m=\u001b[39m d\u001b[38;5;241m.\u001b[39mpop(\u001b[38;5;124m'\u001b[39m\u001b[38;5;124mfrom_\u001b[39m\u001b[38;5;124m'\u001b[39m)\n\u001b[1;32m     11\u001b[0m         \u001b[38;5;28;01mreturn\u001b[39;00m d\n\u001b[0;32m---> 14\u001b[0m \u001b[38;5;129m@tool\u001b[39m\u001b[43m(\u001b[49m\u001b[38;5;124;43m\"\u001b[39;49m\u001b[38;5;124;43mSendEmailTool\u001b[39;49m\u001b[38;5;124;43m\"\u001b[39;49m\u001b[43m,\u001b[49m\u001b[43m \u001b[49m\u001b[43margs_schema\u001b[49m\u001b[38;5;241;43m=\u001b[39;49m\u001b[43mSendEmailToolArgs\u001b[49m\u001b[43m)\u001b[49m\n\u001b[1;32m     15\u001b[0m \u001b[38;5;28;01mdef\u001b[39;00m \u001b[38;5;21msend_email_tool\u001b[39m(email_address: EmailStr, email_subject: \u001b[38;5;28mstr\u001b[39m, email_body: \u001b[38;5;28mstr\u001b[39m, content_type: \u001b[38;5;28mstr\u001b[39m \u001b[38;5;241m=\u001b[39m \u001b[38;5;124m'\u001b[39m\u001b[38;5;124mtext\u001b[39m\u001b[38;5;124m'\u001b[39m) \u001b[38;5;241m-\u001b[39m\u001b[38;5;241m>\u001b[39m \u001b[38;5;28mstr\u001b[39m:\n\u001b[1;32m     16\u001b[0m \u001b[38;5;250m    \u001b[39m\u001b[38;5;124;03m\"\"\"\u001b[39;00m\n\u001b[1;32m     17\u001b[0m \u001b[38;5;124;03m    The ability to email markdown to a specified email address, via Contiguity.\u001b[39;00m\n\u001b[1;32m     18\u001b[0m \u001b[38;5;124;03m    \"\"\"\u001b[39;00m\n\u001b[1;32m     19\u001b[0m     email_object \u001b[38;5;241m=\u001b[39m EmailModel(\n\u001b[1;32m     20\u001b[0m         to\u001b[38;5;241m=\u001b[39memail_address,\n\u001b[1;32m     21\u001b[0m         from_\u001b[38;5;241m=\u001b[39m\u001b[38;5;124m\"\u001b[39m\u001b[38;5;124mCrewAI Send Email Tool\u001b[39m\u001b[38;5;124m\"\u001b[39m,\n\u001b[0;32m   (...)\u001b[0m\n\u001b[1;32m     24\u001b[0m         contentType\u001b[38;5;241m=\u001b[39mcontent_type\n\u001b[1;32m     25\u001b[0m     )\n",
      "\u001b[0;31mTypeError\u001b[0m: tool() got an unexpected keyword argument 'args_schema'"
     ]
    }
   ],
   "source": [
    "class EmailModel(BaseModel):\n",
    "    to: EmailStr\n",
    "    from_: str\n",
    "    subject: str\n",
    "    body: str\n",
    "    contentType: str = 'text'\n",
    "\n",
    "    def dict(self, *args, **kwargs):\n",
    "        d = super().dict(*args, **kwargs)\n",
    "        d['from'] = d.pop('from_')\n",
    "        return d\n",
    "\n",
    "\n",
    "@tool(\"SendEmailTool\", args_schema=SendEmailToolArgs)\n",
    "def send_email_tool(email_address: EmailStr, email_subject: str, email_body: str, content_type: str = 'text') -> str:\n",
    "    \"\"\"\n",
    "    The ability to email markdown to a specified email address, via Contiguity.\n",
    "    \"\"\"\n",
    "    email_object = EmailModel(\n",
    "        to=email_address,\n",
    "        from_=\"CrewAI Send Email Tool\",\n",
    "        subject=email_subject,\n",
    "        body=email_body,\n",
    "        contentType=content_type\n",
    "    )\n",
    "\n",
    "    headers = {\n",
    "        \"Authorization\": f\"Token {contiguity_crewai_token}\",\n",
    "        \"Content-Type\": \"application/json\"\n",
    "    }\n",
    "\n",
    "    response = requests.post(\n",
    "        \"https://api.contiguity.co/send/email\",\n",
    "        headers=headers,\n",
    "        json=email_object.dict()\n",
    "    )\n",
    "\n",
    "    if response.status_code == 200:\n",
    "        return response.json()\n",
    "    else:\n",
    "        response.raise_for_status()\n",
    "\n",
    "# Example usage of SendEmailTool\n",
    "tool = SendEmailTool(\n",
    "    email_address=\"drjanduplessis@icloud.com\",\n",
    "    email_subject=\"CrewAI Send Email Tool\",\n",
    "    email_body=\"Dear User, This is the default email body from CrewAI Send Email Tool.\"\n",
    ")\n",
    "\n",
    "try:\n",
    "    result = tool._run(\"Sample text\")\n",
    "    print(result)\n",
    "except ValidationError as e:\n",
    "    print(e)\n",
    "except ValueError as ve:\n",
    "    print(f\"ValueError: {ve}\")\n",
    "except requests.exceptions.RequestException as re:\n",
    "    print(f\"RequestException: {re}\")"
   ]
  },
  {
   "cell_type": "code",
   "execution_count": 51,
   "metadata": {
    "height": 30
   },
   "outputs": [],
   "source": [
    "send_email_tool = SendEmailTool(email_address=\"drjanduplesssis@icloud.com\", email_subject=\"CrewAI Research Report\", email_body=\"{email_body}\")"
   ]
  },
  {
   "cell_type": "markdown",
   "metadata": {},
   "source": [
    "## Creating Tasks\n",
    "\n",
    "- The Lead Profiling Task is using crewAI Tools."
   ]
  },
  {
   "cell_type": "code",
   "execution_count": null,
   "metadata": {},
   "outputs": [],
   "source": [
    "research_task = Task(\n",
    "    description=(\n",
    "        \"Read the AI MedReview Product Overview in the instructions folder to get familiar with AI MedReview.\"\n",
    "        \"Conduct an online search for upcoming Health Tech events where I can network with Health Tehc leaders, or promote AI MedReview in the next 6 months. Today's date is {date_today}. Starting with a websearch of the following pages. {website1} {website2} {website3}\"\n",
    "    \t\"Gather and compile event details (dates, venues, themes, key speakers, etc.)\"\n",
    "    \t\"Evaluate the potential benefits of exhibiting at each event.\"\n",
    "        \"Email a report to {email_address}, with the subject {email_subject} and your report in the format specified as the email_body.\"\n",
    "    ),\n",
    "    expected_output=(\"\"\"Dear Jan,\n",
    "\n",
    "Research Report - Health Tech Event in the next 6 months.\n",
    "\n",
    "1. Event Name:\n",
    "   - Date: [Date]\n",
    "   - Venue: [Venue]\n",
    "   - Theme: [Event Theme]\n",
    "   - Key Speakers: [List of Key Speakers]\n",
    "   - Event Website: [URL]\n",
    "   - Summary: [Brief description of the event]\n",
    "\n",
    "2. Event Name:\n",
    "   - Date: [Date]\n",
    "   - Venue: [Venue]\n",
    "   - Theme: [Event Theme]\n",
    "   - Key Speakers: [List of Key Speakers]\n",
    "   - Event Website: [URL]\n",
    "   - Summary: [Brief description of the event]\n",
    "\n",
    "---\n",
    "\n",
    "Evaluation Summary:\n",
    "- Potential Benefits: [Summary of the potential benefits of exhibiting at each event]\n",
    "- Recommended Events: [List of events recommended for further evaluation]\n",
    "\n",
    "Kind regards,\n",
    "CrewAI Research Agent \n",
    "\"\"\"\n",
    "    ),\n",
    "    tools=[directory_read_tool, file_read_tool, search_tool, send_email_tool],\n",
    "    agent=researcher_agent,\n",
    ")"
   ]
  },
  {
   "cell_type": "code",
   "execution_count": null,
   "metadata": {},
   "outputs": [],
   "source": [
    "evaluation_task = Task(\n",
    "    description=(\n",
    "        \"The Researcher Agent reviews the gathered information and make a decision regarding the most appropriate events to attend.\"\n",
    "    \t\"Decide on the most promising events for AI MedReview to attend and exhibit. The Researcher then writes a Evalusatio Meeting Summary\"\n",
    "    ),\n",
    "    expected_output=(\"\"\"Evaluation Meeting Summary\n",
    "\n",
    "Meeting Date: [Date]\n",
    "\n",
    "Attendees:\n",
    "- Researcher: [Name]\n",
    "- Event Promoter: [Name]\n",
    "\n",
    "Reviewed Events:\n",
    "1. Event Name:\n",
    "   - Pros: [List of pros]\n",
    "   - Cons: [List of cons]\n",
    "   - Decision: [Attend / Do not attend]\n",
    "\n",
    "2. Event Name:\n",
    "   - Pros: [List of pros]\n",
    "   - Cons: [List of cons]\n",
    "   - Decision: [Attend / Do not attend]\n",
    "\n",
    "---\n",
    "\n",
    "Conclusion:\n",
    "- Selected Events for AI MedReview: [List of events chosen for attendance and exhibition]\"\"\"\n",
    "    ),\n",
    "    tools=[directory_read_tool, file_read_tool, search_tool, send_email_tool],\n",
    "    output_file=\"evaluation_report.md\",\n",
    "    agent=event_planner_agent,\n",
    ")"
   ]
  },
  {
   "cell_type": "code",
   "execution_count": null,
   "metadata": {},
   "outputs": [],
   "source": [
    "promotion_task = Task(\n",
    "    description=(\n",
    "        \"Read AI MedReview Product Overview to ensure you are familiar with our digital product. 'AI MedReview Product Overview.txt' can be found in the instructions folder.\"\n",
    "        \"Write engaging promotional content for each selected event.\"\n",
    "    \t\"Prepare social media posts, blog entries, and newsletter segments.\"\n",
    "    \t\"Coordinate with the marketing team to ensure timely dissemination of promotional materials.\"\n",
    "    ),\n",
    "    expected_output=(\"\"\"Promotional Content for Selected Events\n",
    "\n",
    "1. Event Name:\n",
    "   - Promotional Copy: [Engaging promotional content about AI MedReview attending the event]\n",
    "   - Social Media Posts: [Drafts of social media posts]\n",
    "   - Blog Entry: [Draft of blog entry]\n",
    "   - Newsletter Segment: [Draft of newsletter segment]\n",
    "\n",
    "2. Event Name:\n",
    "   - Promotional Copy: [Engaging promotional content about AI MedReview attending the event]\n",
    "   - Social Media Posts: [Drafts of social media posts]\n",
    "   - Blog Entry: [Draft of blog entry]\n",
    "   - Newsletter Segment: [Draft of newsletter segment]\n",
    "\n",
    "---\n",
    "\n",
    "Coordination Summary:\n",
    "- Coordination with Marketing Team: [Summary of the coordination efforts and timelines for dissemination]\"\"\"\n",
    "    ),\n",
    "    tools=[directory_read_tool, file_read_tool, search_tool, send_email_tool],\n",
    "    output_file=\"promotional_material.md\",\n",
    "    agent=event_promoter_agent,\n",
    ")"
   ]
  },
  {
   "cell_type": "code",
   "execution_count": null,
   "metadata": {},
   "outputs": [],
   "source": [
    "report_task = Task(\n",
    "    description=(\n",
    "        \"The Researcher consolidates all findings into a detailed report.\"\n",
    "    \t\"The Event Promoter includes the promotional strategies and content in the report.\"\n",
    "    \t\"Submit the final report to the management team of AI MedReview.\"\n",
    "    ),\n",
    "    expected_output=(\"\"\"Final Health Tech Event Report\n",
    "\n",
    "Compiled by: [Researcher Name] and [Event Promoter Name]\n",
    "Date: [Date]\n",
    "\n",
    "1. Event Name:\n",
    "   - Date: [Date]\n",
    "   - Venue: [Venue]\n",
    "   - Theme: [Event Theme]\n",
    "   - Key Speakers: [List of Key Speakers]\n",
    "   - Event Website: [URL]\n",
    "   - Summary: [Brief description of the event]\n",
    "   - Evaluation Summary: [Pros, Cons, and Decision]\n",
    "   - Promotional Content: [Engaging promotional content, social media posts, blog entry, newsletter segment]\n",
    "\n",
    "2. Event Name:\n",
    "   - Date: [Date]\n",
    "   - Venue: [Venue]\n",
    "   - Theme: [Event Theme]\n",
    "   - Key Speakers: [List of Key Speakers]\n",
    "   - Event Website: [URL]\n",
    "   - Summary: [Brief description of the event]\n",
    "   - Evaluation Summary: [Pros, Cons, and Decision]\n",
    "   - Promotional Content: [Engaging promotional content, social media posts, blog entry, newsletter segment]\n",
    "\n",
    "---\n",
    "\n",
    "Conclusion:\n",
    "- Selected Events for AI MedReview: [List of events chosen for attendance and exhibition]\n",
    "- Promotional Strategy Summary: [Summary of the promotional strategies and content]\n",
    "- Next Steps: [Recommended next steps for AI MedReview’s participation in the selected events]\"\"\"\n",
    "    ),\n",
    "    tools=[directory_read_tool, file_read_tool, search_tool, send_email_tool],\n",
    "    output_file=\"final_report.md\",\n",
    "    agent=event_planner_agent,\n",
    ")"
   ]
  },
  {
   "cell_type": "code",
   "execution_count": null,
   "metadata": {},
   "outputs": [],
   "source": [
    "# Define a task for sending the email\n",
    "email_task = Task(\n",
    "    description='Send an email with the research summary',\n",
    "    expected_output='Email sent confirmation',\n",
    "    agent=researcher_agent,\n",
    "    input_data=inputs['email_body']\n",
    ")"
   ]
  },
  {
   "cell_type": "markdown",
   "metadata": {},
   "source": [
    "## Creating the Crew"
   ]
  },
  {
   "cell_type": "code",
   "execution_count": null,
   "metadata": {
    "height": 183
   },
   "outputs": [],
   "source": [
    "crew = Crew(\n",
    "    agents=[researcher_agent, \n",
    "            event_planner_agent, event_promoter_agent],\n",
    "    \n",
    "    tasks=[research_task, evaluation_task, promotion_task, report_task],\n",
    "\t\n",
    "    verbose=2,\n",
    "\tmemory=True\n",
    ")"
   ]
  },
  {
   "cell_type": "markdown",
   "metadata": {},
   "source": [
    "## Running the Crew\n",
    "\n",
    "**Note**: LLMs can provide different outputs for they same input, so what you get might be different than what you see in the video."
   ]
  },
  {
   "cell_type": "code",
   "execution_count": null,
   "metadata": {
    "height": 166,
    "scrolled": true
   },
   "outputs": [],
   "source": [
    "# Define your inputs\n",
    "# Define your inputs\n",
    "inputs = {\n",
    "    \"website1\": \"https://www.eventbrite.co.uk/d/united-kingdom--london/health-tech/\",\n",
    "    \"website2\": \"https://www.meetup.com/topics/healthtech/gb/17/london/\",\n",
    "    \"email_body\": \"This is a summary of the research we conducted.\",\n",
    "    \"email_address\": \"jan.duplessis@nhs.net\",\n",
    "    \"email_subject\": \"CrewAI Research Report\"\n",
    "}\n",
    "\n",
    "# Example usage of the agent to send an email\n",
    "try:\n",
    "    result = agent.execute_tool(\"SendEmailTool\", inputs['email_body'])\n",
    "    print(result)\n",
    "except ValidationError as e:\n",
    "    print(e)\n",
    "except ValueError as ve:\n",
    "    print(f\"ValueError: {ve}\")\n",
    "except requests.exceptions.RequestException as re:\n",
    "    print(f\"RequestException: {re}\")"
   ]
  },
  {
   "cell_type": "markdown",
   "metadata": {},
   "source": [
    "- Display the final result as Markdown."
   ]
  },
  {
   "cell_type": "code",
   "execution_count": null,
   "metadata": {
    "height": 47
   },
   "outputs": [],
   "source": [
    "from IPython.display import Markdown\n",
    "Markdown(result)"
   ]
  },
  {
   "cell_type": "code",
   "execution_count": null,
   "metadata": {
    "height": 30
   },
   "outputs": [],
   "source": []
  },
  {
   "cell_type": "code",
   "execution_count": null,
   "metadata": {
    "height": 30
   },
   "outputs": [],
   "source": []
  }
 ],
 "metadata": {
  "colab": {
   "provenance": []
  },
  "kernelspec": {
   "display_name": "Python 3 (ipykernel)",
   "language": "python",
   "name": "python3"
  },
  "language_info": {
   "codemirror_mode": {
    "name": "ipython",
    "version": 3
   },
   "file_extension": ".py",
   "mimetype": "text/x-python",
   "name": "python",
   "nbconvert_exporter": "python",
   "pygments_lexer": "ipython3",
   "version": "3.10.6"
  },
  "widgets": {
   "application/vnd.jupyter.widget-state+json": {
    "state": {},
    "version_major": 2,
    "version_minor": 0
   }
  }
 },
 "nbformat": 4,
 "nbformat_minor": 4
}
