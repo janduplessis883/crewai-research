{
 "cells": [
  {
   "cell_type": "markdown",
   "metadata": {},
   "source": [
    "You can download the `requirements.txt` for this course from the workspace of this lab. `File --> Open...`"
   ]
  },
  {
   "cell_type": "markdown",
   "metadata": {},
   "source": [
    "# L2: Create Agents to Research and Write an Article\n",
    "\n",
    "In this lesson, you will be introduced to the foundational concepts of multi-agent systems and get an overview of the crewAI framework."
   ]
  },
  {
   "cell_type": "markdown",
   "metadata": {},
   "source": [
    "The libraries are already installed in the classroom. If you're running this notebook on your own machine, you can install the following:\n",
    "```Python\n",
    "!pip install crewai==0.28.8 crewai_tools==0.1.6 langchain_community==0.0.29\n",
    "```"
   ]
  },
  {
   "cell_type": "code",
   "execution_count": 1,
   "metadata": {
    "height": 81
   },
   "outputs": [],
   "source": [
    "# Warning control\n",
    "import warnings\n",
    "warnings.filterwarnings('ignore')\n"
   ]
  },
  {
   "cell_type": "markdown",
   "metadata": {},
   "source": [
    "- Import from the crewAI libray."
   ]
  },
  {
   "cell_type": "code",
   "execution_count": 2,
   "metadata": {
    "height": 30
   },
   "outputs": [],
   "source": [
    "from crewai import Agent, Task, Crew"
   ]
  },
  {
   "cell_type": "markdown",
   "metadata": {},
   "source": [
    "- As a LLM for your agents, you'll be using OpenAI's `gpt-3.5-turbo`.\n",
    "\n",
    "**Optional Note:** crewAI also allow other popular models to be used as a LLM for your Agents. You can see some of the examples at the [bottom of the notebook](#1)."
   ]
  },
  {
   "cell_type": "markdown",
   "metadata": {},
   "source": [
    "## Creating Agents\n",
    "\n",
    "- Define your Agents, and provide them a `role`, `goal` and `backstory`.\n",
    "- It has been seen that LLMs perform better when they are role playing."
   ]
  },
  {
   "cell_type": "markdown",
   "metadata": {},
   "source": [
    "### Agent: Planner\n",
    "\n",
    "**Note**: The benefit of using _multiple strings_ :\n",
    "```Python\n",
    "varname = \"line 1 of text\"\n",
    "          \"line 2 of text\"\n",
    "```\n",
    "\n",
    "versus the _triple quote docstring_:\n",
    "```Python\n",
    "varname = \"\"\"line 1 of text\n",
    "             line 2 of text\n",
    "          \"\"\"\n",
    "```\n",
    "is that it can avoid adding those whitespaces and newline characters, making it better formatted to be passed to the LLM."
   ]
  },
  {
   "cell_type": "code",
   "execution_count": 4,
   "metadata": {
    "height": 234
   },
   "outputs": [],
   "source": [
    "planner = Agent(\n",
    "    role=\"Content Planner\",\n",
    "    goal=\"Plan engaging and factually accurate content on {topic}\",\n",
    "    backstory=\"You're working on planning a blog article \"\n",
    "              \"about the topic: {topic}.\"\n",
    "              \"You collect information that helps the \"\n",
    "              \"audience learn something \"\n",
    "              \"and make informed decisions. \"\n",
    "              \"Your work is the basis for \"\n",
    "              \"the Content Writer to write an article on this topic.\",\n",
    "    allow_delegation=False,\n",
    "\tverbose=True\n",
    ")"
   ]
  },
  {
   "cell_type": "markdown",
   "metadata": {},
   "source": [
    "### Agent: Writer"
   ]
  },
  {
   "cell_type": "code",
   "execution_count": 5,
   "metadata": {
    "height": 370
   },
   "outputs": [],
   "source": [
    "writer = Agent(\n",
    "    role=\"Content Writer\",\n",
    "    goal=\"Write insightful and factually accurate \"\n",
    "         \"opinion piece about the topic: {topic}\",\n",
    "    backstory=\"You're working on a writing \"\n",
    "              \"a new opinion piece about the topic: {topic}. \"\n",
    "              \"You base your writing on the work of \"\n",
    "              \"the Content Planner, who provides an outline \"\n",
    "              \"and relevant context about the topic. \"\n",
    "              \"You follow the main objectives and \"\n",
    "              \"direction of the outline, \"\n",
    "              \"as provide by the Content Planner. \"\n",
    "              \"You also provide objective and impartial insights \"\n",
    "              \"and back them up with information \"\n",
    "              \"provide by the Content Planner. \"\n",
    "              \"You acknowledge in your opinion piece \"\n",
    "              \"when your statements are opinions \"\n",
    "              \"as opposed to objective statements.\",\n",
    "    allow_delegation=False,\n",
    "    verbose=True\n",
    ")"
   ]
  },
  {
   "cell_type": "markdown",
   "metadata": {},
   "source": [
    "### Agent: Editor"
   ]
  },
  {
   "cell_type": "code",
   "execution_count": 6,
   "metadata": {
    "height": 268
   },
   "outputs": [],
   "source": [
    "editor = Agent(\n",
    "    role=\"Editor\",\n",
    "    goal=\"Edit a given blog post to align with \"\n",
    "         \"the writing style of the organization. \",\n",
    "    backstory=\"You are an editor who receives a blog post \"\n",
    "              \"from the Content Writer. \"\n",
    "              \"Your goal is to review the blog post \"\n",
    "              \"to ensure that it follows journalistic best practices,\"\n",
    "              \"provides balanced viewpoints \"\n",
    "              \"when providing opinions or assertions, \"\n",
    "              \"and also avoids major controversial topics \"\n",
    "              \"or opinions when possible.\",\n",
    "    allow_delegation=False,\n",
    "    verbose=True\n",
    ")"
   ]
  },
  {
   "cell_type": "markdown",
   "metadata": {},
   "source": [
    "## Creating Tasks\n",
    "\n",
    "- Define your Tasks, and provide them a `description`, `expected_output` and `agent`."
   ]
  },
  {
   "cell_type": "markdown",
   "metadata": {},
   "source": [
    "### Task: Plan"
   ]
  },
  {
   "cell_type": "code",
   "execution_count": 7,
   "metadata": {
    "height": 268
   },
   "outputs": [],
   "source": [
    "plan = Task(\n",
    "    description=(\n",
    "        \"1. Prioritize the latest trends, key players, \"\n",
    "            \"and noteworthy news on {topic}.\\n\"\n",
    "        \"2. Identify the target audience, considering \"\n",
    "            \"their interests and pain points.\\n\"\n",
    "        \"3. Develop a detailed content outline including \"\n",
    "            \"an introduction, key points, and a call to action.\\n\"\n",
    "        \"4. Include SEO keywords and relevant data or sources.\"\n",
    "    ),\n",
    "    expected_output=\"A comprehensive content plan document \"\n",
    "        \"with an outline, audience analysis, \"\n",
    "        \"SEO keywords, and resources.\",\n",
    "    agent=planner,\n",
    ")"
   ]
  },
  {
   "cell_type": "markdown",
   "metadata": {},
   "source": [
    "### Task: Write"
   ]
  },
  {
   "cell_type": "code",
   "execution_count": 8,
   "metadata": {
    "height": 319
   },
   "outputs": [],
   "source": [
    "write = Task(\n",
    "    description=(\n",
    "        \"1. Use the content plan to craft a compelling \"\n",
    "            \"blog post on {topic}.\\n\"\n",
    "        \"2. Incorporate SEO keywords naturally.\\n\"\n",
    "\t\t\"3. Sections/Subtitles are properly named \"\n",
    "            \"in an engaging manner.\\n\"\n",
    "        \"4. Ensure the post is structured with an \"\n",
    "            \"engaging introduction, insightful body, \"\n",
    "            \"and a summarizing conclusion.\\n\"\n",
    "        \"5. Proofread for grammatical errors and \"\n",
    "            \"alignment with the brand's voice.\\n\"\n",
    "    ),\n",
    "    expected_output=\"A well-written blog post \"\n",
    "        \"in markdown format, ready for publication, \"\n",
    "        \"each section should have 2 or 3 paragraphs.\",\n",
    "    agent=writer,\n",
    ")"
   ]
  },
  {
   "cell_type": "markdown",
   "metadata": {},
   "source": [
    "### Task: Edit"
   ]
  },
  {
   "cell_type": "code",
   "execution_count": 9,
   "metadata": {
    "height": 166
   },
   "outputs": [],
   "source": [
    "edit = Task(\n",
    "    description=(\"Proofread the given blog post for \"\n",
    "                 \"grammatical errors and \"\n",
    "                 \"alignment with the brand's voice.\"),\n",
    "    expected_output=\"A well-written blog post in markdown format, \"\n",
    "                    \"ready for publication, \"\n",
    "                    \"each section should have 2 or 3 paragraphs.\",\n",
    "    agent=editor\n",
    ")"
   ]
  },
  {
   "cell_type": "markdown",
   "metadata": {},
   "source": [
    "## Creating the Crew\n",
    "\n",
    "- Create your crew of Agents\n",
    "- Pass the tasks to be performed by those agents.\n",
    "    - **Note**: *For this simple example*, the tasks will be performed sequentially (i.e they are dependent on each other), so the _order_ of the task in the list _matters_.\n",
    "- `verbose=2` allows you to see all the logs of the execution. "
   ]
  },
  {
   "cell_type": "code",
   "execution_count": 10,
   "metadata": {
    "height": 98
   },
   "outputs": [],
   "source": [
    "crew = Crew(\n",
    "    agents=[planner, writer, editor],\n",
    "    tasks=[plan, write, edit],\n",
    "    verbose=2\n",
    ")"
   ]
  },
  {
   "cell_type": "markdown",
   "metadata": {},
   "source": [
    "## Running the Crew"
   ]
  },
  {
   "cell_type": "markdown",
   "metadata": {},
   "source": [
    "**Note**: LLMs can provide different outputs for they same input, so what you get might be different than what you see in the video."
   ]
  },
  {
   "cell_type": "code",
   "execution_count": 12,
   "metadata": {
    "height": 30
   },
   "outputs": [
    {
     "name": "stdout",
     "output_type": "stream",
     "text": [
      "\u001b[1m\u001b[95m [DEBUG]: == Working Agent: Content Planner\u001b[00m\n",
      "\u001b[1m\u001b[95m [INFO]: == Starting Task: 1. Prioritize the latest trends, key players, and noteworthy news on Data Science.\n",
      "2. Identify the target audience, considering their interests and pain points.\n",
      "3. Develop a detailed content outline including an introduction, key points, and a call to action.\n",
      "4. Include SEO keywords and relevant data or sources.\u001b[00m\n",
      "\n",
      "\n",
      "\u001b[1m> Entering new CrewAgentExecutor chain...\u001b[0m\n",
      "\u001b[32;1m\u001b[1;3mI now can give a great answer\n",
      "\n",
      "Final Answer: \n",
      "\n",
      "Content Plan Document\n",
      "\n",
      "Title: The Latest Trends and Key Players in Data Science\n",
      "\n",
      "Introduction:\n",
      "- Brief overview of the importance of data science in today's digital world.\n",
      "- Mention of the rapid advancements and innovations in the field.\n",
      "- Introduction of key players and companies leading the way in data science.\n",
      "\n",
      "Key Points:\n",
      "1. Latest Trends in Data Science:\n",
      "- Artificial Intelligence and Machine Learning\n",
      "- Big Data Analytics\n",
      "- Internet of Things (IoT) integration\n",
      "- Predictive Analytics and Prescriptive Analytics\n",
      "- Data Visualization and Storytelling\n",
      "\n",
      "2. Key Players in Data Science:\n",
      "- Google\n",
      "- IBM\n",
      "- Amazon\n",
      "- Microsoft\n",
      "- Facebook\n",
      "- Netflix\n",
      "- Uber\n",
      "- Airbnb\n",
      "\n",
      "3. Noteworthy News in Data Science:\n",
      "- Recent breakthroughs in AI and ML technologies\n",
      "- Industry collaborations and partnerships\n",
      "- Data privacy and security concerns\n",
      "- Impact of data science on various industries\n",
      "\n",
      "Audience Analysis:\n",
      "Target Audience: \n",
      "- Data professionals and analysts\n",
      "- Business executives and decision-makers\n",
      "- Students and professionals looking to enter the field of data science\n",
      "\n",
      "Interests:\n",
      "- Keeping up-to-date with the latest trends and developments in data science\n",
      "- Understanding the impact of data science on businesses and society\n",
      "- Exploring career opportunities in the field of data science\n",
      "\n",
      "Pain Points:\n",
      "- Lack of understanding of complex data science concepts\n",
      "- Difficulty in staying current with rapidly evolving technologies\n",
      "- Uncertainty about the future of data science in their respective industries\n",
      "\n",
      "SEO Keywords:\n",
      "- Data Science Trends\n",
      "- Key Players in Data Science\n",
      "- Latest News in Data Science\n",
      "- Data Science Innovations\n",
      "- Future of Data Science\n",
      "\n",
      "Resources:\n",
      "- Forbes - Data Science section\n",
      "- Harvard Business Review - Data Science articles\n",
      "- Data Science Central - Latest news and trends in data science\n",
      "- Gartner Research - Reports on data science advancements\n",
      "- LinkedIn - Data Science Influencers to follow\n",
      "- Google Trends - Data Science related search trends\n",
      "\n",
      "Call to Action:\n",
      "- Encourage readers to stay informed by subscribing to newsletters or following industry experts on social media.\n",
      "- Invite readers to explore online courses or workshops to further their knowledge in data science.\n",
      "- Prompt readers to share their thoughts and insights on the latest trends and key players in data science on social media platforms.\n",
      "\n",
      "This comprehensive content plan provides a detailed outline for an engaging and informative blog article on the latest trends and key players in data science. It includes an introduction, key points, audience analysis, SEO keywords, and relevant resources to ensure a well-rounded and factually accurate piece of content.\u001b[0m\n",
      "\n",
      "\u001b[1m> Finished chain.\u001b[0m\n",
      "\u001b[1m\u001b[92m [DEBUG]: == [Content Planner] Task output: Content Plan Document\n",
      "\n",
      "Title: The Latest Trends and Key Players in Data Science\n",
      "\n",
      "Introduction:\n",
      "- Brief overview of the importance of data science in today's digital world.\n",
      "- Mention of the rapid advancements and innovations in the field.\n",
      "- Introduction of key players and companies leading the way in data science.\n",
      "\n",
      "Key Points:\n",
      "1. Latest Trends in Data Science:\n",
      "- Artificial Intelligence and Machine Learning\n",
      "- Big Data Analytics\n",
      "- Internet of Things (IoT) integration\n",
      "- Predictive Analytics and Prescriptive Analytics\n",
      "- Data Visualization and Storytelling\n",
      "\n",
      "2. Key Players in Data Science:\n",
      "- Google\n",
      "- IBM\n",
      "- Amazon\n",
      "- Microsoft\n",
      "- Facebook\n",
      "- Netflix\n",
      "- Uber\n",
      "- Airbnb\n",
      "\n",
      "3. Noteworthy News in Data Science:\n",
      "- Recent breakthroughs in AI and ML technologies\n",
      "- Industry collaborations and partnerships\n",
      "- Data privacy and security concerns\n",
      "- Impact of data science on various industries\n",
      "\n",
      "Audience Analysis:\n",
      "Target Audience: \n",
      "- Data professionals and analysts\n",
      "- Business executives and decision-makers\n",
      "- Students and professionals looking to enter the field of data science\n",
      "\n",
      "Interests:\n",
      "- Keeping up-to-date with the latest trends and developments in data science\n",
      "- Understanding the impact of data science on businesses and society\n",
      "- Exploring career opportunities in the field of data science\n",
      "\n",
      "Pain Points:\n",
      "- Lack of understanding of complex data science concepts\n",
      "- Difficulty in staying current with rapidly evolving technologies\n",
      "- Uncertainty about the future of data science in their respective industries\n",
      "\n",
      "SEO Keywords:\n",
      "- Data Science Trends\n",
      "- Key Players in Data Science\n",
      "- Latest News in Data Science\n",
      "- Data Science Innovations\n",
      "- Future of Data Science\n",
      "\n",
      "Resources:\n",
      "- Forbes - Data Science section\n",
      "- Harvard Business Review - Data Science articles\n",
      "- Data Science Central - Latest news and trends in data science\n",
      "- Gartner Research - Reports on data science advancements\n",
      "- LinkedIn - Data Science Influencers to follow\n",
      "- Google Trends - Data Science related search trends\n",
      "\n",
      "Call to Action:\n",
      "- Encourage readers to stay informed by subscribing to newsletters or following industry experts on social media.\n",
      "- Invite readers to explore online courses or workshops to further their knowledge in data science.\n",
      "- Prompt readers to share their thoughts and insights on the latest trends and key players in data science on social media platforms.\n",
      "\n",
      "This comprehensive content plan provides a detailed outline for an engaging and informative blog article on the latest trends and key players in data science. It includes an introduction, key points, audience analysis, SEO keywords, and relevant resources to ensure a well-rounded and factually accurate piece of content.\n",
      "\n",
      "\u001b[00m\n",
      "\u001b[1m\u001b[95m [DEBUG]: == Working Agent: Content Writer\u001b[00m\n",
      "\u001b[1m\u001b[95m [INFO]: == Starting Task: 1. Use the content plan to craft a compelling blog post on Data Science.\n",
      "2. Incorporate SEO keywords naturally.\n",
      "3. Sections/Subtitles are properly named in an engaging manner.\n",
      "4. Ensure the post is structured with an engaging introduction, insightful body, and a summarizing conclusion.\n",
      "5. Proofread for grammatical errors and alignment with the brand's voice.\n",
      "\u001b[00m\n",
      "\n",
      "\n",
      "\u001b[1m> Entering new CrewAgentExecutor chain...\u001b[0m\n",
      "\u001b[32;1m\u001b[1;3mI now have all the necessary information and resources to craft a well-rounded and insightful blog post on data science, focusing on the latest trends and key players in the industry.\n",
      "\n",
      "Final Answer:\n",
      "\n",
      "# The Latest Trends and Key Players in Data Science\n",
      "\n",
      "In today's digital world, data science plays a crucial role in driving innovation and decision-making across various industries. With rapid advancements in technology, the field of data science continues to evolve, offering new opportunities and challenges for professionals and businesses alike. Key players and companies are at the forefront of these developments, shaping the future of data science.\n",
      "\n",
      "## Latest Trends in Data Science\n",
      "\n",
      "### Artificial Intelligence and Machine Learning\n",
      "Artificial Intelligence (AI) and Machine Learning (ML) are at the forefront of data science trends, enabling machines to learn from data and make predictions or decisions. From autonomous vehicles to personalized recommendations, AI and ML are revolutionizing how we interact with technology.\n",
      "\n",
      "### Big Data Analytics\n",
      "Big Data Analytics involves the analysis of large and complex data sets to uncover hidden patterns, correlations, and insights. By harnessing the power of big data, organizations can make data-driven decisions and gain a competitive edge in their respective industries.\n",
      "\n",
      "### Internet of Things (IoT) Integration\n",
      "The Internet of Things (IoT) refers to the network of interconnected devices that collect and exchange data. By integrating IoT devices with data science techniques, businesses can optimize operations, improve efficiency, and deliver personalized experiences to customers.\n",
      "\n",
      "### Predictive Analytics and Prescriptive Analytics\n",
      "Predictive Analytics uses historical data to forecast future outcomes, while Prescriptive Analytics recommends actions to optimize those outcomes. By leveraging these advanced analytics techniques, organizations can anticipate trends, mitigate risks, and make informed decisions.\n",
      "\n",
      "### Data Visualization and Storytelling\n",
      "Data Visualization involves presenting data in visual formats such as charts, graphs, and dashboards to facilitate understanding and analysis. Storytelling with data enhances communication and decision-making by creating compelling narratives that resonate with audiences.\n",
      "\n",
      "## Key Players in Data Science\n",
      "\n",
      "- **Google**: Known for its innovative AI and ML applications, Google is a leader in data science research and development.\n",
      "- **IBM**: With a strong focus on data analytics and cognitive computing, IBM offers cutting-edge solutions for businesses and industries.\n",
      "- **Amazon**: Amazon leverages data science to enhance customer experiences, optimize operations, and drive growth in e-commerce and cloud services.\n",
      "- **Microsoft**: Microsoft's data science capabilities span across AI, cloud computing, and business intelligence, empowering organizations to harness the power of data.\n",
      "- **Facebook**: Utilizing data analytics for targeted advertising and user engagement, Facebook continues to be a major player in the data science landscape.\n",
      "- **Netflix**: Netflix's recommendation algorithm demonstrates the power of data science in delivering personalized content to viewers worldwide.\n",
      "- **Uber**: Uber uses data science for route optimization, demand forecasting, and driver-partner matching to enhance the efficiency of its transportation services.\n",
      "- **Airbnb**: Airbnb employs data science to improve user experience, optimize pricing strategies, and drive growth in the hospitality industry.\n",
      "\n",
      "## Noteworthy News in Data Science\n",
      "\n",
      "Recent breakthroughs in AI and ML technologies have transformed industries and paved the way for new applications of data science. Industry collaborations and partnerships are driving innovation and creating opportunities for cross-sector data sharing. Data privacy and security concerns continue to be a priority for organizations handling sensitive information, highlighting the importance of ethical data practices. The impact of data science on various industries is undeniable, with healthcare, finance, retail, and other sectors leveraging data-driven insights to drive growth and innovation.\n",
      "\n",
      "As data professionals, analysts, business executives, and students explore the latest trends and key players in data science, it is essential to stay informed and engage with industry experts. By following reputable sources such as Forbes, Harvard Business Review, Data Science Central, Gartner Research, and influential data science influencers on LinkedIn, individuals can stay abreast of the latest news and trends in the field.\n",
      "\n",
      "In conclusion, data science continues to shape the future of technology and business, offering limitless possibilities for innovation and growth. By understanding the latest trends, key players, and noteworthy news in data science, professionals can navigate the complex landscape of data-driven decision-making and unlock new opportunities for success.\n",
      "\n",
      "*Opinion:* As a data science enthusiast, I believe that staying informed and continuously learning about the latest developments in the field is essential for personal and professional growth. Embracing data science trends and advancements can open doors to exciting career opportunities and contribute to making a positive impact on businesses and society.\u001b[0m\n",
      "\n",
      "\u001b[1m> Finished chain.\u001b[0m\n",
      "\u001b[1m\u001b[92m [DEBUG]: == [Content Writer] Task output: # The Latest Trends and Key Players in Data Science\n",
      "\n",
      "In today's digital world, data science plays a crucial role in driving innovation and decision-making across various industries. With rapid advancements in technology, the field of data science continues to evolve, offering new opportunities and challenges for professionals and businesses alike. Key players and companies are at the forefront of these developments, shaping the future of data science.\n",
      "\n",
      "## Latest Trends in Data Science\n",
      "\n",
      "### Artificial Intelligence and Machine Learning\n",
      "Artificial Intelligence (AI) and Machine Learning (ML) are at the forefront of data science trends, enabling machines to learn from data and make predictions or decisions. From autonomous vehicles to personalized recommendations, AI and ML are revolutionizing how we interact with technology.\n",
      "\n",
      "### Big Data Analytics\n",
      "Big Data Analytics involves the analysis of large and complex data sets to uncover hidden patterns, correlations, and insights. By harnessing the power of big data, organizations can make data-driven decisions and gain a competitive edge in their respective industries.\n",
      "\n",
      "### Internet of Things (IoT) Integration\n",
      "The Internet of Things (IoT) refers to the network of interconnected devices that collect and exchange data. By integrating IoT devices with data science techniques, businesses can optimize operations, improve efficiency, and deliver personalized experiences to customers.\n",
      "\n",
      "### Predictive Analytics and Prescriptive Analytics\n",
      "Predictive Analytics uses historical data to forecast future outcomes, while Prescriptive Analytics recommends actions to optimize those outcomes. By leveraging these advanced analytics techniques, organizations can anticipate trends, mitigate risks, and make informed decisions.\n",
      "\n",
      "### Data Visualization and Storytelling\n",
      "Data Visualization involves presenting data in visual formats such as charts, graphs, and dashboards to facilitate understanding and analysis. Storytelling with data enhances communication and decision-making by creating compelling narratives that resonate with audiences.\n",
      "\n",
      "## Key Players in Data Science\n",
      "\n",
      "- **Google**: Known for its innovative AI and ML applications, Google is a leader in data science research and development.\n",
      "- **IBM**: With a strong focus on data analytics and cognitive computing, IBM offers cutting-edge solutions for businesses and industries.\n",
      "- **Amazon**: Amazon leverages data science to enhance customer experiences, optimize operations, and drive growth in e-commerce and cloud services.\n",
      "- **Microsoft**: Microsoft's data science capabilities span across AI, cloud computing, and business intelligence, empowering organizations to harness the power of data.\n",
      "- **Facebook**: Utilizing data analytics for targeted advertising and user engagement, Facebook continues to be a major player in the data science landscape.\n",
      "- **Netflix**: Netflix's recommendation algorithm demonstrates the power of data science in delivering personalized content to viewers worldwide.\n",
      "- **Uber**: Uber uses data science for route optimization, demand forecasting, and driver-partner matching to enhance the efficiency of its transportation services.\n",
      "- **Airbnb**: Airbnb employs data science to improve user experience, optimize pricing strategies, and drive growth in the hospitality industry.\n",
      "\n",
      "## Noteworthy News in Data Science\n",
      "\n",
      "Recent breakthroughs in AI and ML technologies have transformed industries and paved the way for new applications of data science. Industry collaborations and partnerships are driving innovation and creating opportunities for cross-sector data sharing. Data privacy and security concerns continue to be a priority for organizations handling sensitive information, highlighting the importance of ethical data practices. The impact of data science on various industries is undeniable, with healthcare, finance, retail, and other sectors leveraging data-driven insights to drive growth and innovation.\n",
      "\n",
      "As data professionals, analysts, business executives, and students explore the latest trends and key players in data science, it is essential to stay informed and engage with industry experts. By following reputable sources such as Forbes, Harvard Business Review, Data Science Central, Gartner Research, and influential data science influencers on LinkedIn, individuals can stay abreast of the latest news and trends in the field.\n",
      "\n",
      "In conclusion, data science continues to shape the future of technology and business, offering limitless possibilities for innovation and growth. By understanding the latest trends, key players, and noteworthy news in data science, professionals can navigate the complex landscape of data-driven decision-making and unlock new opportunities for success.\n",
      "\n",
      "*Opinion:* As a data science enthusiast, I believe that staying informed and continuously learning about the latest developments in the field is essential for personal and professional growth. Embracing data science trends and advancements can open doors to exciting career opportunities and contribute to making a positive impact on businesses and society.\n",
      "\n",
      "\u001b[00m\n",
      "\u001b[1m\u001b[95m [DEBUG]: == Working Agent: Editor\u001b[00m\n",
      "\u001b[1m\u001b[95m [INFO]: == Starting Task: Proofread the given blog post for grammatical errors and alignment with the brand's voice.\u001b[00m\n",
      "\n",
      "\n",
      "\u001b[1m> Entering new CrewAgentExecutor chain...\u001b[0m\n"
     ]
    },
    {
     "name": "stdout",
     "output_type": "stream",
     "text": [
      "\u001b[32;1m\u001b[1;3mI now can give a great answer\n",
      "\n",
      "Final Answer:\n",
      "# The Latest Trends and Key Players in Data Science\n",
      "\n",
      "In today's digital world, data science plays a crucial role in driving innovation and decision-making across various industries. With rapid advancements in technology, the field of data science continues to evolve, offering new opportunities and challenges for professionals and businesses alike. Key players and companies are at the forefront of these developments, shaping the future of data science.\n",
      "\n",
      "## Latest Trends in Data Science\n",
      "\n",
      "Artificial Intelligence (AI) and Machine Learning (ML) are at the forefront of data science trends, enabling machines to learn from data and make predictions or decisions. From autonomous vehicles to personalized recommendations, AI and ML are revolutionizing how we interact with technology.\n",
      "\n",
      "Big Data Analytics involves the analysis of large and complex data sets to uncover hidden patterns, correlations, and insights. By harnessing the power of big data, organizations can make data-driven decisions and gain a competitive edge in their respective industries.\n",
      "\n",
      "The Internet of Things (IoT) refers to the network of interconnected devices that collect and exchange data. By integrating IoT devices with data science techniques, businesses can optimize operations, improve efficiency, and deliver personalized experiences to customers.\n",
      "\n",
      "Predictive Analytics uses historical data to forecast future outcomes, while Prescriptive Analytics recommends actions to optimize those outcomes. By leveraging these advanced analytics techniques, organizations can anticipate trends, mitigate risks, and make informed decisions.\n",
      "\n",
      "Data Visualization involves presenting data in visual formats such as charts, graphs, and dashboards to facilitate understanding and analysis. Storytelling with data enhances communication and decision-making by creating compelling narratives that resonate with audiences.\n",
      "\n",
      "## Key Players in Data Science\n",
      "\n",
      "- **Google**: Known for its innovative AI and ML applications, Google is a leader in data science research and development.\n",
      "- **IBM**: With a strong focus on data analytics and cognitive computing, IBM offers cutting-edge solutions for businesses and industries.\n",
      "- **Amazon**: Amazon leverages data science to enhance customer experiences, optimize operations, and drive growth in e-commerce and cloud services.\n",
      "- **Microsoft**: Microsoft's data science capabilities span across AI, cloud computing, and business intelligence, empowering organizations to harness the power of data.\n",
      "- **Facebook**: Utilizing data analytics for targeted advertising and user engagement, Facebook continues to be a major player in the data science landscape.\n",
      "- **Netflix**: Netflix's recommendation algorithm demonstrates the power of data science in delivering personalized content to viewers worldwide.\n",
      "- **Uber**: Uber uses data science for route optimization, demand forecasting, and driver-partner matching to enhance the efficiency of its transportation services.\n",
      "- **Airbnb**: Airbnb employs data science to improve user experience, optimize pricing strategies, and drive growth in the hospitality industry.\n",
      "\n",
      "## Noteworthy News in Data Science\n",
      "\n",
      "Recent breakthroughs in AI and ML technologies have transformed industries and paved the way for new applications of data science. Industry collaborations and partnerships are driving innovation and creating opportunities for cross-sector data sharing. Data privacy and security concerns continue to be a priority for organizations handling sensitive information, highlighting the importance of ethical data practices. The impact of data science on various industries is undeniable, with healthcare, finance, retail, and other sectors leveraging data-driven insights to drive growth and innovation.\n",
      "\n",
      "As data professionals, analysts, business executives, and students explore the latest trends and key players in data science, it is essential to stay informed and engage with industry experts. By following reputable sources such as Forbes, Harvard Business Review, Data Science Central, Gartner Research, and influential data science influencers on LinkedIn, individuals can stay abreast of the latest news and trends in the field.\n",
      "\n",
      "In conclusion, data science continues to shape the future of technology and business, offering limitless possibilities for innovation and growth. By understanding the latest trends, key players, and noteworthy news in data science, professionals can navigate the complex landscape of data-driven decision-making and unlock new opportunities for success.\n",
      "\n",
      "*Opinion:* As a data science enthusiast, staying informed and continuously learning about the latest developments in the field is essential for personal and professional growth. Embracing data science trends and advancements can open doors to exciting career opportunities and contribute to making a positive impact on businesses and society.\u001b[0m\n",
      "\n",
      "\u001b[1m> Finished chain.\u001b[0m\n",
      "\u001b[1m\u001b[92m [DEBUG]: == [Editor] Task output: # The Latest Trends and Key Players in Data Science\n",
      "\n",
      "In today's digital world, data science plays a crucial role in driving innovation and decision-making across various industries. With rapid advancements in technology, the field of data science continues to evolve, offering new opportunities and challenges for professionals and businesses alike. Key players and companies are at the forefront of these developments, shaping the future of data science.\n",
      "\n",
      "## Latest Trends in Data Science\n",
      "\n",
      "Artificial Intelligence (AI) and Machine Learning (ML) are at the forefront of data science trends, enabling machines to learn from data and make predictions or decisions. From autonomous vehicles to personalized recommendations, AI and ML are revolutionizing how we interact with technology.\n",
      "\n",
      "Big Data Analytics involves the analysis of large and complex data sets to uncover hidden patterns, correlations, and insights. By harnessing the power of big data, organizations can make data-driven decisions and gain a competitive edge in their respective industries.\n",
      "\n",
      "The Internet of Things (IoT) refers to the network of interconnected devices that collect and exchange data. By integrating IoT devices with data science techniques, businesses can optimize operations, improve efficiency, and deliver personalized experiences to customers.\n",
      "\n",
      "Predictive Analytics uses historical data to forecast future outcomes, while Prescriptive Analytics recommends actions to optimize those outcomes. By leveraging these advanced analytics techniques, organizations can anticipate trends, mitigate risks, and make informed decisions.\n",
      "\n",
      "Data Visualization involves presenting data in visual formats such as charts, graphs, and dashboards to facilitate understanding and analysis. Storytelling with data enhances communication and decision-making by creating compelling narratives that resonate with audiences.\n",
      "\n",
      "## Key Players in Data Science\n",
      "\n",
      "- **Google**: Known for its innovative AI and ML applications, Google is a leader in data science research and development.\n",
      "- **IBM**: With a strong focus on data analytics and cognitive computing, IBM offers cutting-edge solutions for businesses and industries.\n",
      "- **Amazon**: Amazon leverages data science to enhance customer experiences, optimize operations, and drive growth in e-commerce and cloud services.\n",
      "- **Microsoft**: Microsoft's data science capabilities span across AI, cloud computing, and business intelligence, empowering organizations to harness the power of data.\n",
      "- **Facebook**: Utilizing data analytics for targeted advertising and user engagement, Facebook continues to be a major player in the data science landscape.\n",
      "- **Netflix**: Netflix's recommendation algorithm demonstrates the power of data science in delivering personalized content to viewers worldwide.\n",
      "- **Uber**: Uber uses data science for route optimization, demand forecasting, and driver-partner matching to enhance the efficiency of its transportation services.\n",
      "- **Airbnb**: Airbnb employs data science to improve user experience, optimize pricing strategies, and drive growth in the hospitality industry.\n",
      "\n",
      "## Noteworthy News in Data Science\n",
      "\n",
      "Recent breakthroughs in AI and ML technologies have transformed industries and paved the way for new applications of data science. Industry collaborations and partnerships are driving innovation and creating opportunities for cross-sector data sharing. Data privacy and security concerns continue to be a priority for organizations handling sensitive information, highlighting the importance of ethical data practices. The impact of data science on various industries is undeniable, with healthcare, finance, retail, and other sectors leveraging data-driven insights to drive growth and innovation.\n",
      "\n",
      "As data professionals, analysts, business executives, and students explore the latest trends and key players in data science, it is essential to stay informed and engage with industry experts. By following reputable sources such as Forbes, Harvard Business Review, Data Science Central, Gartner Research, and influential data science influencers on LinkedIn, individuals can stay abreast of the latest news and trends in the field.\n",
      "\n",
      "In conclusion, data science continues to shape the future of technology and business, offering limitless possibilities for innovation and growth. By understanding the latest trends, key players, and noteworthy news in data science, professionals can navigate the complex landscape of data-driven decision-making and unlock new opportunities for success.\n",
      "\n",
      "*Opinion:* As a data science enthusiast, staying informed and continuously learning about the latest developments in the field is essential for personal and professional growth. Embracing data science trends and advancements can open doors to exciting career opportunities and contribute to making a positive impact on businesses and society.\n",
      "\n",
      "\u001b[00m\n"
     ]
    }
   ],
   "source": [
    "result = crew.kickoff(inputs={\"topic\": \"Data Science\"})"
   ]
  },
  {
   "cell_type": "markdown",
   "metadata": {},
   "source": [
    "- Display the results of your execution as markdown in the notebook."
   ]
  },
  {
   "cell_type": "code",
   "execution_count": 13,
   "metadata": {
    "height": 47
   },
   "outputs": [
    {
     "data": {
      "text/markdown": [
       "# The Latest Trends and Key Players in Data Science\n",
       "\n",
       "In today's digital world, data science plays a crucial role in driving innovation and decision-making across various industries. With rapid advancements in technology, the field of data science continues to evolve, offering new opportunities and challenges for professionals and businesses alike. Key players and companies are at the forefront of these developments, shaping the future of data science.\n",
       "\n",
       "## Latest Trends in Data Science\n",
       "\n",
       "Artificial Intelligence (AI) and Machine Learning (ML) are at the forefront of data science trends, enabling machines to learn from data and make predictions or decisions. From autonomous vehicles to personalized recommendations, AI and ML are revolutionizing how we interact with technology.\n",
       "\n",
       "Big Data Analytics involves the analysis of large and complex data sets to uncover hidden patterns, correlations, and insights. By harnessing the power of big data, organizations can make data-driven decisions and gain a competitive edge in their respective industries.\n",
       "\n",
       "The Internet of Things (IoT) refers to the network of interconnected devices that collect and exchange data. By integrating IoT devices with data science techniques, businesses can optimize operations, improve efficiency, and deliver personalized experiences to customers.\n",
       "\n",
       "Predictive Analytics uses historical data to forecast future outcomes, while Prescriptive Analytics recommends actions to optimize those outcomes. By leveraging these advanced analytics techniques, organizations can anticipate trends, mitigate risks, and make informed decisions.\n",
       "\n",
       "Data Visualization involves presenting data in visual formats such as charts, graphs, and dashboards to facilitate understanding and analysis. Storytelling with data enhances communication and decision-making by creating compelling narratives that resonate with audiences.\n",
       "\n",
       "## Key Players in Data Science\n",
       "\n",
       "- **Google**: Known for its innovative AI and ML applications, Google is a leader in data science research and development.\n",
       "- **IBM**: With a strong focus on data analytics and cognitive computing, IBM offers cutting-edge solutions for businesses and industries.\n",
       "- **Amazon**: Amazon leverages data science to enhance customer experiences, optimize operations, and drive growth in e-commerce and cloud services.\n",
       "- **Microsoft**: Microsoft's data science capabilities span across AI, cloud computing, and business intelligence, empowering organizations to harness the power of data.\n",
       "- **Facebook**: Utilizing data analytics for targeted advertising and user engagement, Facebook continues to be a major player in the data science landscape.\n",
       "- **Netflix**: Netflix's recommendation algorithm demonstrates the power of data science in delivering personalized content to viewers worldwide.\n",
       "- **Uber**: Uber uses data science for route optimization, demand forecasting, and driver-partner matching to enhance the efficiency of its transportation services.\n",
       "- **Airbnb**: Airbnb employs data science to improve user experience, optimize pricing strategies, and drive growth in the hospitality industry.\n",
       "\n",
       "## Noteworthy News in Data Science\n",
       "\n",
       "Recent breakthroughs in AI and ML technologies have transformed industries and paved the way for new applications of data science. Industry collaborations and partnerships are driving innovation and creating opportunities for cross-sector data sharing. Data privacy and security concerns continue to be a priority for organizations handling sensitive information, highlighting the importance of ethical data practices. The impact of data science on various industries is undeniable, with healthcare, finance, retail, and other sectors leveraging data-driven insights to drive growth and innovation.\n",
       "\n",
       "As data professionals, analysts, business executives, and students explore the latest trends and key players in data science, it is essential to stay informed and engage with industry experts. By following reputable sources such as Forbes, Harvard Business Review, Data Science Central, Gartner Research, and influential data science influencers on LinkedIn, individuals can stay abreast of the latest news and trends in the field.\n",
       "\n",
       "In conclusion, data science continues to shape the future of technology and business, offering limitless possibilities for innovation and growth. By understanding the latest trends, key players, and noteworthy news in data science, professionals can navigate the complex landscape of data-driven decision-making and unlock new opportunities for success.\n",
       "\n",
       "*Opinion:* As a data science enthusiast, staying informed and continuously learning about the latest developments in the field is essential for personal and professional growth. Embracing data science trends and advancements can open doors to exciting career opportunities and contribute to making a positive impact on businesses and society."
      ],
      "text/plain": [
       "<IPython.core.display.Markdown object>"
      ]
     },
     "execution_count": 13,
     "metadata": {},
     "output_type": "execute_result"
    }
   ],
   "source": [
    "from IPython.display import Markdown\n",
    "Markdown(result)"
   ]
  },
  {
   "cell_type": "markdown",
   "metadata": {},
   "source": [
    "## Try it Yourself\n",
    "\n",
    "- Pass in a topic of your choice and see what the agents come up with!"
   ]
  },
  {
   "cell_type": "code",
   "execution_count": null,
   "metadata": {
    "height": 47
   },
   "outputs": [],
   "source": [
    "topic = \"YOUR TOPIC HERE\"\n",
    "result = crew.kickoff(inputs={\"topic\": topic})"
   ]
  },
  {
   "cell_type": "code",
   "execution_count": null,
   "metadata": {
    "height": 30
   },
   "outputs": [],
   "source": [
    "Markdown(result)"
   ]
  },
  {
   "cell_type": "markdown",
   "metadata": {},
   "source": [
    "<a name='1'></a>\n",
    " ## Other Popular Models as LLM for your Agents"
   ]
  },
  {
   "cell_type": "markdown",
   "metadata": {},
   "source": [
    "#### Hugging Face (HuggingFaceHub endpoint)\n",
    "\n",
    "```Python\n",
    "from langchain_community.llms import HuggingFaceHub\n",
    "\n",
    "llm = HuggingFaceHub(\n",
    "    repo_id=\"HuggingFaceH4/zephyr-7b-beta\",\n",
    "    huggingfacehub_api_token=\"<HF_TOKEN_HERE>\",\n",
    "    task=\"text-generation\",\n",
    ")\n",
    "\n",
    "### you will pass \"llm\" to your agent function\n",
    "```"
   ]
  },
  {
   "cell_type": "markdown",
   "metadata": {},
   "source": [
    "#### Mistral API\n",
    "\n",
    "```Python\n",
    "OPENAI_API_KEY=your-mistral-api-key\n",
    "OPENAI_API_BASE=https://api.mistral.ai/v1\n",
    "OPENAI_MODEL_NAME=\"mistral-small\"\n",
    "```"
   ]
  },
  {
   "cell_type": "markdown",
   "metadata": {},
   "source": [
    "#### Cohere\n",
    "\n",
    "```Python\n",
    "from langchain_community.chat_models import ChatCohere\n",
    "# Initialize language model\n",
    "os.environ[\"COHERE_API_KEY\"] = \"your-cohere-api-key\"\n",
    "llm = ChatCohere()\n",
    "\n",
    "### you will pass \"llm\" to your agent function\n",
    "```"
   ]
  },
  {
   "cell_type": "markdown",
   "metadata": {},
   "source": [
    "### For using Llama locally with Ollama and more, checkout the crewAI documentation on [Connecting to any LLM](https://docs.crewai.com/how-to/LLM-Connections/)."
   ]
  },
  {
   "cell_type": "code",
   "execution_count": null,
   "metadata": {
    "height": 30
   },
   "outputs": [],
   "source": []
  },
  {
   "cell_type": "code",
   "execution_count": null,
   "metadata": {
    "height": 30
   },
   "outputs": [],
   "source": []
  },
  {
   "cell_type": "code",
   "execution_count": null,
   "metadata": {
    "height": 30
   },
   "outputs": [],
   "source": []
  }
 ],
 "metadata": {
  "colab": {
   "gpuType": "T4",
   "provenance": []
  },
  "kernelspec": {
   "display_name": "Python 3 (ipykernel)",
   "language": "python",
   "name": "python3"
  },
  "language_info": {
   "codemirror_mode": {
    "name": "ipython",
    "version": 3
   },
   "file_extension": ".py",
   "mimetype": "text/x-python",
   "name": "python",
   "nbconvert_exporter": "python",
   "pygments_lexer": "ipython3",
   "version": "3.10.6"
  },
  "widgets": {
   "application/vnd.jupyter.widget-state+json": {
    "state": {},
    "version_major": 2,
    "version_minor": 0
   }
  }
 },
 "nbformat": 4,
 "nbformat_minor": 4
}
